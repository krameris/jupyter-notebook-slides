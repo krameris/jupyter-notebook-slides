{
 "cells": [
  {
   "cell_type": "markdown",
   "metadata": {
    "slideshow": {
     "slide_type": "slide"
    }
   },
   "source": [
    "<center><h1>Incoming radiation in a planted trench system</h1><br />\n",
    "<h2>Isaac Kramer</h2><br />\n",
    "<h4>Supervisors: Nurit Agam and Pedro Berliner</h4><br />\n",
    "<h4>Fall 2016</h4></center>"
   ]
  },
  {
   "cell_type": "markdown",
   "metadata": {
    "slideshow": {
     "slide_type": "slide"
    }
   },
   "source": [
    "<center><h1>1. Overview of the model</h1><br />\n",
    "<h1>2. Methods, math, and coding</h1><br />\n",
    "<h1>3. Results</h1></center>"
   ]
  },
  {
   "cell_type": "markdown",
   "metadata": {
    "slideshow": {
     "slide_type": "slide"
    }
   },
   "source": [
    "<center><h1>1. Overview</h1></center>"
   ]
  },
  {
   "cell_type": "markdown",
   "metadata": {
    "nbpresent": {
     "id": "446e6703-83cc-459f-9cc0-54363c8404fb"
    },
    "slideshow": {
     "slide_type": "fragment"
    }
   },
   "source": [
    "The presented model calculates the incoming shortwave and longwave radiation in a planted trench system.\n",
    "<ol><li>Considers the possibility of shading from (i) the trench's walls and (ii) the canopy of the trees planted in the trench.<ul><li>For canopy shading: the model uses Beer's Law to estimate the degree to which the incoming radiation is attenuated:$$I=I_{0}e^{-kx}$$where $I_{0}$ =  initial intensity of the radiation, $I$ = intensity of the radiation after passing through the canopy, $x$ = depth of the canopy, and $k$ = probability that the beam will be disturbed as it passes through the canopy.</li></ul><br />\n",
    "<li>Can be adjusted according to several input parameters (next slide).</li><br />\n",
    "<li>Outputs the incoming shortwave and incoming longwave radiation for grid of points on the trench floor.</li></ol>"
   ]
  },
  {
   "cell_type": "markdown",
   "metadata": {
    "nbpresent": {
     "id": "d6db64f9-2622-4e1a-9980-62394a07e436"
    },
    "slideshow": {
     "slide_type": "slide"
    }
   },
   "source": [
    "<center><h2>Input Parameters</h2></center>\n",
    "<ul class=\"itemize\"><a id=\"magicparlabel-882\"></a><li class=\"itemize_item\"><span style=\"font-family:monospace;\">ori</span> / <math xmlns=\"http://www.w3.org/1998/Math/MathML\">\n",
    " <mrow>\n",
    "  <mrow><mi>O</mi><mi>R</mi><mi>I</mi><mo>:</mo>\n",
    "  </mrow>\n",
    " </mrow></math> Angle of the trench orientation (relative to north)</li>\n",
    "<li class=\"itemize_item\"><span style=\"font-family:monospace;\">depth</span> / <math xmlns=\"http://www.w3.org/1998/Math/MathML\">\n",
    " <mrow>\n",
    "  <mrow><mi>d</mi><mi>e</mi><mi>p</mi><mi>t</mi><mi>h</mi><mo>:</mo>\n",
    "  </mrow>\n",
    " </mrow></math> Trench depth (meters) </li>\n",
    "<li class=\"itemize_item\"><span style=\"font-family:monospace;\">width</span> / <math xmlns=\"http://www.w3.org/1998/Math/MathML\">\n",
    " <mrow>\n",
    "  <mrow><mi>w</mi><mi>i</mi><mi>d</mi><mi>t</mi><mi>h</mi><mo>:</mo>\n",
    "  </mrow>\n",
    " </mrow></math> Trench width (meters) </li>\n",
    "<li class=\"itemize_item\"><span style=\"font-family:monospace;\">albedo</span> / <math xmlns=\"http://www.w3.org/1998/Math/MathML\">\n",
    " <mrow>\n",
    "  <mrow><mi> ρ </mi><mo>:</mo>\n",
    "  </mrow>\n",
    " </mrow></math> Albedo of the trench surface </li>\n",
    "<li class=\"itemize_item\"><span style=\"font-family:monospace;\">canopy_radius</span> / <math xmlns=\"http://www.w3.org/1998/Math/MathML\">\n",
    " <mrow>\n",
    "  <mrow><mi>r</mi><mo>:</mo>\n",
    "  </mrow>\n",
    " </mrow></math> Canopy radius of trees in the trench system (meters) </li>\n",
    "<li class=\"itemize_item\"><span style=\"font-family:monospace;\">canopy_heigh</span>t / <math xmlns=\"http://www.w3.org/1998/Math/MathML\">\n",
    " <mrow>\n",
    "  <mrow><mi>H</mi><mo>:</mo>\n",
    "  </mrow>\n",
    " </mrow></math> Distance from the ground to the center of the canopy (meters) </li>\n",
    "<li class=\"itemize_item\"><span style=\"font-family:monospace;\">steps_x</span>: Number of steps across the width of the trench </li>\n",
    "<li class=\"itemize_item\"><span style=\"font-family:monospace;\">steps_y</span>: Number of steps across the length of the trench </li>\n",
    "<li class=\"itemize_item\"><span style=\"font-family:monospace;\">wall_steps</span>: Number of steps across the height of the trench walls</li>\n",
    "<li class=\"itemize_item\"><span style=\"font-family:monospace;\">tree_x</span>: Location of the tree across the width of the trench </li>\n",
    "<li class=\"itemize_item\"><span style=\"font-family:monospace;\">extinction_coef</span> / <math xmlns=\"http://www.w3.org/1998/Math/MathML\">\n",
    " <mrow>\n",
    "  <mrow><mi>k</mi><mo>:</mo>\n",
    "  </mrow>\n",
    " </mrow></math> Extinction coefficient of the canopy (0 to 1) </li>\n",
    "<li class=\"itemize_item\"><span style=\"font-family:monospace;\">XLON</span>: Longitude (degrees) </li>\n",
    "<li class=\"itemize_item\"><span style=\"font-family:monospace;\">XLAT</span>: Latitude (degrees) </li>\n",
    "<li class=\"itemize_item\"><span style=\"font-family:monospace;\">LTZM</span>: Local time zone (+/- GMT) </li>\n",
    "<li class=\"itemize_item\"><span style=\"font-family:monospace;\">file_name</span>: Name of the file containing the input data</li>\n",
    "<li class=\"itemize_item\"><span style=\"font-family:monospace;\">path</span>: Directory where the input file is located </li>\n",
    "<li class=\"itemize_item\"><span style=\"font-family:monospace;\">canopy_emissivity</span> / <math xmlns=\"http://www.w3.org/1998/Math/MathML\">\n",
    " <mrow>\n",
    "  <msub>\n",
    "   <mrow><mi> ϵ </mi>\n",
    "   </mrow>\n",
    "   <mrow><mi>c</mi>\n",
    "   </mrow>\n",
    "  </msub>\n",
    " </mrow></math>: Emissivity of the canopy </li>\n",
    "</ul>"
   ]
  },
  {
   "cell_type": "markdown",
   "metadata": {
    "nbpresent": {
     "id": "513eb046-9401-4cf7-91be-ed81588da1c2"
    },
    "slideshow": {
     "slide_type": "slide"
    }
   },
   "source": [
    "<center><h1>2. Methods, math, and coding</h1></center>"
   ]
  },
  {
   "cell_type": "markdown",
   "metadata": {
    "nbpresent": {
     "id": "bf5ca581-82d0-4e33-99d5-672a3eeadf50"
    },
    "slideshow": {
     "slide_type": "fragment"
    }
   },
   "source": [
    "<center><h2>Program structure</h2></center>\n",
    "<ol><li>Execute input GUI<ul>\n",
    "<li>Collect input parameters and location of file containing input data using <b>input_gui</b> function.</li></ul><br />\n",
    "<li>Initiate dataframes<ul>\n",
    "<li>Prepares output dataframes for the data in the input file using the <b>initiate_dataframes</b> function. Converts from Excel date-time to an appropriate index in pandas. Adds columns for azimuth and elevation angles.</li></ul><br />\n",
    "<li>Calculate points<ul>\n",
    "<li>Executes the <b>point_calculator</b> function to calculate the coordinates for the grid of points on the trench floor based on user input.</li></ul><br />\n",
    "<li>Calculate azimuth and elevation angles<ul>\n",
    "<li>Computes the azimuth and elevation angle for each entry in the input file using the <b>azimuth_elevation</b> function.</li></ul><br />\n",
    "<li>Calculate direct shortwave radiation, diffuse shortwave radiation, reflected direct radiation, reflected diffuse radiation, and longwave radiation.<ul>\n",
    "<li>If elevation angle == 0, only computes longwave radiation.</li></ul>\n",
    "</ol>"
   ]
  },
  {
   "cell_type": "markdown",
   "metadata": {
    "nbpresent": {
     "id": "6af497ed-9d10-4e28-9dce-fa8a8453165e"
    },
    "slideshow": {
     "slide_type": "slide"
    }
   },
   "source": [
    "<center><h2>Direct shortwave radiation</h2></center>"
   ]
  },
  {
   "cell_type": "markdown",
   "metadata": {
    "nbpresent": {
     "id": "82b1191d-9040-489a-a8f6-975dfb7b155a"
    },
    "slideshow": {
     "slide_type": "fragment"
    }
   },
   "source": [
    "<ol><li>Start by checking wall shading.\n",
    "<ul><li>If point is shaded by trench wall, set direct radiation equal to 0.</li></ul><br />\n",
    "<li>If point is not shaded by trench wall, check canopy shading.\n",
    "<ul><li>If there is canopy shading, apply Beer's Law to find direct radiation reaching trench floor.</li>\n",
    "<li>If there is no canopy shading, direct radiation reaching trench floor is equal to direct radiation measured outside the trench.</ul></li></ol>"
   ]
  },
  {
   "cell_type": "markdown",
   "metadata": {
    "slideshow": {
     "slide_type": "fragment"
    }
   },
   "source": [
    "<img  src=\"12EatersAllOver-ss-slide-5DDA-master1050.jpg\"/>"
   ]
  },
  {
   "cell_type": "markdown",
   "metadata": {
    "nbpresent": {
     "id": "0fef5f81-8d54-4b93-89c9-8dfb9053a34b"
    },
    "slideshow": {
     "slide_type": "slide"
    }
   },
   "source": [
    "<center><h2>The maths: checking wall shade</h2></center>"
   ]
  },
  {
   "cell_type": "markdown",
   "metadata": {
    "nbpresent": {
     "id": "7da86d30-5adc-4b3b-8497-1764d4858f43"
    },
    "slideshow": {
     "slide_type": "fragment"
    }
   },
   "source": [
    "Shading by the trench walls depends on the position of the sun, the\n",
    "orientation of the trench, and the trench aspect (length:width) ratio.\n",
    "\n",
    "The sun's azimuth angle determines which of the trench's walls can\n",
    "produce shade. If $ORI < \\phi < ORI+\\pi$, shading can be caused by the\n",
    "trench's first wall. If $ORI + \\pi < \\phi < ORI +2 \\pi$, then shading can\n",
    "be caused by the trench's second wall. \n",
    "\n",
    "A point, $m$, on the trench floor will be shaded if the length of\n",
    "the shade, normal to the trench orientation ($L'$), is greater than\n",
    "the distance from $m$ to the trench wall. When $ORI < \\phi < ORI + \\pi$,\n",
    "$m$ will be shaded if $m > width - L'$. When $ORI + \\pi < \\phi < ORI +2 \\pi$,\n",
    "$m$ is shaded if $m < L'$.\n",
    "\n",
    "To calculate $L'$: use $L'=\\frac{depth}{\\tan(\\varphi')}$ where $\\tan(\\varphi')=\\frac{\\tan(\\varphi)}{|\\cos(\\theta)|}$ and\n",
    "$\\theta=|\\phi-NOR|=|\\phi-ORI+\\frac{\\pi}{2}|$. This is the absolute\n",
    "value of the angle between the azimuth angle and the normal to trench\n",
    "orientation. Note: $\\cos\\theta=\\frac{L}{L'}$.\n"
   ]
  },
  {
   "cell_type": "markdown",
   "metadata": {
    "nbpresent": {
     "id": "369fd575-3ca0-41fc-9a69-ca321c0eef55"
    },
    "slideshow": {
     "slide_type": "slide"
    }
   },
   "source": [
    "<center><h2>The code: checking wall shade</h2></center>"
   ]
  },
  {
   "cell_type": "code",
   "execution_count": null,
   "metadata": {
    "collapsed": true,
    "nbpresent": {
     "id": "5cca8243-1aef-4e2d-931e-bc9f305bd0ae"
    },
    "scrolled": true,
    "slideshow": {
     "slide_type": "fragment"
    }
   },
   "outputs": [],
   "source": [
    "def wall_shade(m_x, depth, width, azimuth_phi, normal, elevation_varPhi, ori):\n",
    "    \"\"\"Calculate shade length\"\"\"\n",
    "    theta = azimuth_phi-normal\n",
    "    var_phi_tan = math.tan(elevation_varPhi)/abs(math.cos(theta))\n",
    "    l_ = depth/var_phi_tan\n",
    "\n",
    "    \"\"\"Check if point is shaded based on which wall is producing shade\"\"\"\n",
    "    if (math.degrees(azimuth_phi) >= math.degrees(ori) and\n",
    "            math.degrees(azimuth_phi) <= math.degrees(ori+math.pi)):  # wall 1\n",
    "        if m_x < l_:\n",
    "            shading = True\n",
    "        else:\n",
    "            shading = False\n",
    "    else:                                                             # wall 2\n",
    "        if m_x > width - l_:\n",
    "            shading = True\n",
    "        else:\n",
    "            shading = False\n",
    "    return shading"
   ]
  },
  {
   "cell_type": "markdown",
   "metadata": {
    "nbpresent": {
     "id": "f5cb22b5-b682-44d5-afc9-002e741fa43c"
    },
    "slideshow": {
     "slide_type": "slide"
    }
   },
   "source": [
    "<center><h2>The maths: computing canopy depth</h2></center>"
   ]
  },
  {
   "cell_type": "markdown",
   "metadata": {
    "nbpresent": {
     "id": "7ce0e90b-1161-43e8-bc45-9784b6270e17"
    },
    "slideshow": {
     "slide_type": "fragment"
    }
   },
   "source": [
    "Whether point $m$ on the trench floor is shaded by the canopy depends on\n",
    "$m$'s position relative to the canopy and the location of the\n",
    "sun. The model assumes shading comes only from the trees planted\n",
    "in the trench (i.e., other rows of trenches are ignored). It also\n",
    "assumes that the crown shapes are spherical and that the ground is\n",
    "horizontal.  </div>\n",
    "\n",
    "To determine whether $m$ is shaded, the model computes the angle $\\delta$\n",
    " created by (i) the line from the center of the tree crown (point\n",
    "$O)$ to point $m$ on the trench floor and (ii) the line from $m$ to point $A$,\n",
    "which is tangent to the bottom of the canopy. It then calculates a second angle $\\vartheta$\n",
    "created by (i) the line between the incoming beam of solar radiation\n",
    "and $m$ and (ii) the line connecting $m$ and $O$. When $\\vartheta > \\delta$\n",
    "then the incoming solar radiation will not pass through the canopy\n",
    "and there will be no shading produced by the canopy.\n",
    "\n",
    "If $\\vartheta < \\delta$ then it is indeed possible that point $m$\n",
    "is shaded by the canopy. In this case, the next step is to determine\n",
    "the depth, $x$ of the canopy that the radiation passes through. The canopy depth, $x$, is given by: $x(\\vartheta)=2\\sqrt{r^{2}-(H^{2}+L^{2})\\sin^{2}\\vartheta}$.\n",
    "The angle $\\vartheta$, between the center of the tree crown and the\n",
    "position of the sun is given by $\\cos\\vartheta=\\sin\\varphi\\sin\\omega+\\cos\\varphi\\cos\\omega\\cos(\\phi'-\\phi_{T})$,\n",
    "where $\\phi'$ is the azimuth angle of the sun relative to the the\n",
    "trench orientation (rather than from the north, $\\phi'=\\phi-ORI$)\n",
    "and $\\phi_{T}$ is the azimuth angle of the tree relative to the row\n",
    "direction $\\phi_{T}=\\frac{m_{x}-tree_{x}}{m_{y}-tree_{y}}$. Therefore,\n",
    "$\\sin^{2}\\vartheta=1-\\cos^{2}\\vartheta=1-[\\sin\\varphi\\sin\\omega+\\cos\\varphi\\cos\\omega\\cos(\\phi-\\phi_{T}-ORI)]^{2}$.\n",
    "\n",
    "In order to do find the values of $L$ and $\\omega$ (and by extension $\\theta$)\n",
    "a coordinate system is defined such that: (1) the tree nearest to\n",
    "$m$ is defined as the origin and (2) the orientation angle of the\n",
    "trench ($ORI$) is considered the y-axis. The location of the\n",
    "point can then be expressed as $m(x_{0},y_{0})$, where $x_{0}$ and\n",
    "$y_{0}$ are the distance from the tree along the x axis and y-axis\n",
    "respectively. The canopy depth ($x$) for any tree in the trench\n",
    "system can then be re-expressed as $x_{i,j}(\\varphi,\\phi)=2\\sqrt{r^{2}-[H^{2}+(x_{0})^{2}+(y_{0})^{2}]\\sin^{2}\\vartheta}$,\n",
    "again with the condition that if $\\vartheta > \\delta$ then $x_{i,j}(\\varphi,\\phi)=0$."
   ]
  },
  {
   "cell_type": "markdown",
   "metadata": {
    "nbpresent": {
     "id": "be80ddd1-4095-4e9d-8fcc-80aa8a01a03e"
    },
    "slideshow": {
     "slide_type": "slide"
    }
   },
   "source": [
    "<center><h2>The code: computing canopy depth</h2></center>"
   ]
  },
  {
   "cell_type": "code",
   "execution_count": null,
   "metadata": {
    "collapsed": true,
    "nbpresent": {
     "id": "d2f99ef3-b863-4ad3-8374-d8a539346646"
    },
    "scrolled": true,
    "slideshow": {
     "slide_type": "fragment"
    }
   },
   "outputs": [],
   "source": [
    "def can_depth(p_x, p_y, canopy_radius, canopy_height, elevation_varPhi,\n",
    "              tree_x, azimuth_phi, tree_y):\n",
    "    dist_to_tree = math.sqrt(math.pow(p_y, 2) + math.pow(p_x, 2))\n",
    "    beta_t = math.atan(p_x/p_y)\n",
    "    omega = math.atan(canopy_height/dist_to_tree)\n",
    "    delta = math.atan(canopy_radius/math.sqrt(math.pow(canopy_height, 2) +\n",
    "                                              math.pow(dist_to_tree, 2) -\n",
    "                                              math.pow(canopy_radius, 2)))\n",
    "    var_theta = math.acos((math.sin(elevation_varPhi)*math.sin(omega) +\n",
    "                          math.cos(elevation_varPhi)*math.cos(omega) *\n",
    "                          math.cos(azimuth_phi - beta_t - ori)))\n",
    "    sin2_theta = 1 - math.pow(math.cos(var_theta), 2)\n",
    "\n",
    "    \"\"\"Check to see if shading is possible; calculate depth if possible\"\"\"\n",
    "    if math.degrees(var_theta) >= math.degrees(delta):\n",
    "        canopy_depth = 0\n",
    "    else:\n",
    "        canopy_depth = 2*math.sqrt(math.pow(canopy_radius, 2) -\n",
    "                                   (math.pow(canopy_height, 2) +\n",
    "                                    math.pow(p_y, 2) +\n",
    "                                    math.pow(p_x, 2)) *\n",
    "                                   sin2_theta)\n",
    "    return canopy_depth, beta_t, omega, delta"
   ]
  },
  {
   "cell_type": "markdown",
   "metadata": {
    "nbpresent": {
     "id": "01d9d5e9-eaed-43ad-b8d5-a6785b471748"
    },
    "slideshow": {
     "slide_type": "slide"
    }
   },
   "source": [
    "<center><h2>The code: direct shortwave radiation</h2></center>"
   ]
  },
  {
   "cell_type": "code",
   "execution_count": null,
   "metadata": {
    "collapsed": true,
    "nbpresent": {
     "id": "d1c0e475-7931-4fde-a5c1-a3277ef1cedb"
    },
    "scrolled": true,
    "slideshow": {
     "slide_type": "fragment"
    }
   },
   "outputs": [],
   "source": [
    "def direct_sw(m_x, m_y, direct_beam, extinction_coef, canopy_depth,\n",
    "              azimuth_phi, normal, elevation_varPhi, ori):\n",
    "    if wall_shade(m_x, depth, width, azimuth_phi, normal, elevation_varPhi,\n",
    "                  ori):\n",
    "        direct_short = 0\n",
    "    else:\n",
    "        direct_short = direct_beam*math.exp(-extinction_coef*canopy_depth)\n",
    "    return direct_short"
   ]
  },
  {
   "cell_type": "markdown",
   "metadata": {
    "collapsed": true,
    "nbpresent": {
     "id": "6ab95427-b6d7-44ea-b837-8ea8af4cd196"
    },
    "slideshow": {
     "slide_type": "slide"
    }
   },
   "source": [
    "<center><h2>Diffuse shortwave radiation</h2></center>"
   ]
  },
  {
   "cell_type": "markdown",
   "metadata": {
    "nbpresent": {
     "id": "2a0d6495-a18d-4d11-a733-f59648050c7e"
    },
    "slideshow": {
     "slide_type": "fragment"
    }
   },
   "source": [
    "<ol><li>The diffuse radiation reaching the trench floor is a fraction of that reaching points outside the trench.\n",
    "<ul><li>This is because the trench walls result in only a fraction of the celestial hemisphere being visible to points on the trench floor.</li>\n",
    "<li>The meridional view angles give this fraction.</li></ul><br />\n",
    "<li>Determine to what degree the diffuse radiation entering this slice of the celestial hemisphere is attenuated by the canopy.\n",
    "<ul><li>Applying Beer's Law over the fraction of the celestial hemisphere gives the fraction of diffuse radiation passing through the canopy.</li></ul></li></ol>"
   ]
  },
  {
   "cell_type": "markdown",
   "metadata": {
    "nbpresent": {
     "id": "10a575eb-8e57-459e-9d23-899664d8befe"
    },
    "slideshow": {
     "slide_type": "slide"
    }
   },
   "source": [
    "<center><h2>The maths: meridional view angles</h2></center>"
   ]
  },
  {
   "cell_type": "markdown",
   "metadata": {
    "nbpresent": {
     "id": "068e8d3f-ba1b-4140-b5b0-84635e3fc50d"
    },
    "slideshow": {
     "slide_type": "fragment"
    }
   },
   "source": [
    "Meridional angles are used to determine the fraction of the celestial hemisphere seen from point $m$ on the trench floor. The angles are calculated using $\\varepsilon_{1}=\\arctan(\\frac{depth}{m_x})$ and $\\varepsilon_{2}=\\pi-\\arctan(\\frac{depth}{width-m_x})$."
   ]
  },
  {
   "cell_type": "markdown",
   "metadata": {
    "slideshow": {
     "slide_type": "slide"
    }
   },
   "source": [
    "<center><h2>The code: meridional view angles</h2></center>"
   ]
  },
  {
   "cell_type": "code",
   "execution_count": null,
   "metadata": {
    "collapsed": true,
    "nbpresent": {
     "id": "c762639d-8fc5-48dd-8d64-0ff38a07fcf7"
    },
    "scrolled": true,
    "slideshow": {
     "slide_type": "fragment"
    }
   },
   "outputs": [],
   "source": [
    "def meridional_angles(m_x, depth, width, azimuth_phi, normal,\n",
    "                      elevation_varPhi):\n",
    "    \"\"\"height_reflection\"\"\"\n",
    "    theta = abs(math.cos(azimuth_phi-normal))\n",
    "    var_phi_tan = math.tan(elevation_varPhi)/math.cos(theta)\n",
    "    height_reflection = width*var_phi_tan\n",
    "\n",
    "    \"\"\"Correction for cases when height_reflection is greater than depth\"\"\"\n",
    "    if height_reflection > depth:\n",
    "        height_reflection = depth\n",
    "\n",
    "    \"\"\"epsilon_1 and epsilon_2\"\"\"\n",
    "    epsilon_1 = math.atan(depth/m_x)\n",
    "    epsilon_2 = math.pi - math.atan(depth/(width-m_x))\n",
    "\n",
    "    \"\"\"epsilon_3 and epsilon_4\"\"\"\n",
    "    if (math.degrees(azimuth_phi) >= math.degrees(ori) and\n",
    "            math.degrees(azimuth_phi) <= math.degrees(ori+math.pi)):\n",
    "            epsilon_3 = math.atan(depth/(width-m_x))\n",
    "            epsilon_4 = math.atan((depth-height_reflection)/(width-m_x))\n",
    "    else:\n",
    "        epsilon_3 = math.atan(depth/m_x)\n",
    "        epsilon_4 = math.atan((depth-height_reflection)/m_x)\n",
    "\n",
    "    \"\"\"frac_diff_x_y\"\"\"\n",
    "    epsilon_5 = math.atan(depth/m_x)\n",
    "    epsilon_6 = math.atan(depth/width-m_x)\n",
    "    frac_diff_x_y = 1 - (math.cos(epsilon_5) - math.cos(epsilon_6))/2\n",
    "    return (epsilon_1, epsilon_2, epsilon_3, epsilon_4, frac_diff_x_y,\n",
    "            height_reflection)"
   ]
  },
  {
   "cell_type": "markdown",
   "metadata": {
    "nbpresent": {
     "id": "20bc494a-4f30-484e-a6c2-660948bcebce"
    },
    "slideshow": {
     "slide_type": "slide"
    }
   },
   "source": [
    "<center><h2>The maths: diffuse radiation</h2></center>"
   ]
  },
  {
   "cell_type": "markdown",
   "metadata": {
    "nbpresent": {
     "id": "501b9f21-20eb-407f-a737-72c28b38fea6"
    },
    "slideshow": {
     "slide_type": "fragment"
    }
   },
   "source": [
    "The diffuse radiation emanating from an area $dS$ and reaching point,\n",
    "$c$, above the canopy is given by $\\varOmega_{c}=\\varOmega\\sin\\varphi\\mathrm{d}S$,\n",
    "where $\\sin\\varphi$ is the vector representing the portion of the\n",
    "diffuse radiation that is directed downwards. The differential space\n",
    "d$S$ is defined as $\\mathrm{d}S=r^{2}\\sin\\psi\\mathrm{d}\\alpha\\mathrm{d}\\psi$\n",
    "and $\\sin\\varphi=\\sin\\psi\\sin\\alpha$. The incoming radiation at point\n",
    "$c$, integrated over the whole hemisphere, is therefore\n",
    "$\\varOmega_{c}=\\varOmega r^{2}\\int_{0}^{\\pi}\\int_{0}^{\\pi}\\sin^{2}\\psi\\sin\\alpha\\mathrm{d}\\psi\\mathrm{d}\\alpha=\\Omega r^{2}\\pi$.\n",
    "\n",
    "Because points inside the trench are recessed from the actual surface,\n",
    "only a fraction of the celestial hemisphere is visible from points\n",
    "on the trench floor. The diffuse radiation reaching a point on the\n",
    "trench floor must therefore not consider the entire celestial hemisphere,\n",
    "but only the fraction that is visible at a given point on the trench\n",
    "floor. This fraction is based on the meridional view angles $\\varepsilon_{1}$ and\n",
    "$\\varepsilon_{2}$, between point $m$ and the top of the trench\n",
    "walls. Using these view angles as the boundaries when integrating\n",
    "changes the above equation to $\\varOmega_{a}=\\varOmega r^{2}\\int_{\\varepsilon_{1}}^{\\varepsilon_{2}}\\int_{0}^{\\pi}\\sin^{2}\\psi\\sin\\alpha\\mathrm{d}\\psi\\mathrm{d}\\alpha=\\Omega r^{2}\\pi$\n",
    "for a point $a$ on the floor of a trench that does not include\n",
    "a canopy. Assuming the diffuse radiation is isotropic, the solution\n",
    "for this integral is $\\varOmega_{a}=\\frac{1}{2}\\varOmega r^{2}\\pi[\\cos\\varepsilon_{1}-\\cos\\varepsilon_{2}]$.\n",
    "Normalizing based on the diffuse radiation above the canopy, $\\Omega_{c}=\\Omega r^{2}\\pi$,\n",
    "shows that the fraction of the total diffuse radiation reaching point\n",
    "$m$ is given by $\\frac{1}{2}[\\cos\\varepsilon_{1}-\\cos\\varepsilon_{2}]$.\n",
    "Multiplying this fraction by the global diffuse radiation yields the\n",
    "actual diffuse radiation reaching point m:$\\Omega_{a}=\\Omega_{c}\\frac{1}{2}[\\cos\\varepsilon_{1}-\\cos\\varepsilon_{2}]$.\n",
    "\n",
    "The diffuse radiation reaching the trench floor is also limited by\n",
    "the presence of the canopy. Diffuse radiation is attenuated by the\n",
    "canopy in the same way that direct radiation is. That is, Beer's law\n",
    "can be applied to determine the intensity of the diffuse radiation\n",
    "passing through the canopy. If the point in question were outside\n",
    "of the trench, one could integrate over the entire hemisphere such\n",
    "that the $X=\\int_{0}^{2\\pi}\\int_{\\varepsilon_{1}}^{\\varepsilon_{2}}\\mathrm{e^{-kx(\\varphi,\\phi)}\\sin\\varphi\\cos\\varphi}d\\varphi\\mathrm{d}\\phi.$\n",
    "But, as stated earlier, only a fraction of the celestial hemisphere\n",
    "is visible from the trench floor. Dividing the trench into two sections,\n",
    "laterally, attenuation by the canopy in this region can be represented\n",
    "as $X=\\frac{1}{\\pi[\\cos\\varepsilon_{1}-\\cos\\varepsilon_{2}]}\\int_{ORI}^{ORI+\\pi}\\int_{\\varepsilon_{1}}^{\\pi/2}\\mathrm{e^{-kx(\\varphi,\\phi)}\\sin2\\varphi}d\\varphi\\mathrm{d}\\phi+\\int_{ORI+\\pi}^{ORI+2\\pi}\\int_{\\varepsilon_{2}}^{\\pi/2}\\mathrm{e^{-kx(\\varphi,\\phi)}\\sin2\\varphi}d\\varphi\\mathrm{d}\\phi$.\n",
    "Therefore, the diffuse radiation reaching the trench floor can be\n",
    "given by $\\Omega_{m}=X\\Omega_{a}=X\\Omega_{c}\\frac{1}{2}[\\cos\\varepsilon_{1}-\\cos\\varepsilon_{2}]$."
   ]
  },
  {
   "cell_type": "markdown",
   "metadata": {
    "nbpresent": {
     "id": "c9a18848-6b87-4a82-8510-eaef89e83487"
    },
    "slideshow": {
     "slide_type": "slide"
    }
   },
   "source": [
    "<center><h2>The code: diffuse shortwave radiation</h2></center>"
   ]
  },
  {
   "cell_type": "code",
   "execution_count": null,
   "metadata": {
    "collapsed": true,
    "nbpresent": {
     "id": "ed30e1db-1ce9-42b3-a66d-76ebce799991"
    },
    "scrolled": true,
    "slideshow": {
     "slide_type": "fragment"
    }
   },
   "outputs": [],
   "source": [
    "def diffuse_sw(epsilon_1, epsilon_2, diffuse_input, canopy_radius,\n",
    "               canopy_height, p_x, p_y, omega, ori, extinction_coef, beta_t,\n",
    "               delta):\n",
    "    def can_depth2(elevation, azimuth):\n",
    "        \"\"\"Calculates the canopy depth at point m for a given azimuth and\n",
    "        elevation angle\n",
    "            Args:\n",
    "                elevation: The elevation angle of the sun\n",
    "                azimuth: The azimuth angle of the sun\n",
    "            Output:\n",
    "                x: The canopy depth for the given elevation and azimuth\"\"\"\n",
    "        var_theta = math.acos(math.sin(elevation)*math.sin(omega) +\n",
    "                              math.cos(elevation)*math.cos(omega) *\n",
    "                              math.cos(azimuth - beta_t - ori))\n",
    "        sin2_theta = 1 - math.pow(math.cos(var_theta), 2)\n",
    "        if math.degrees(var_theta) >= math.degrees(delta):\n",
    "            x = 0\n",
    "        else:\n",
    "            x = 2*math.sqrt(math.pow(canopy_radius, 2) -\n",
    "                            (math.pow(canopy_height, 2) + math.pow(p_y, 2) +\n",
    "                             math.pow(p_x, 2))*sin2_theta)\n",
    "        return x\n",
    "\n",
    "    \"\"\"Integration function\"\"\"\n",
    "    def integrand(elevation, azimuth):\n",
    "        \"\"\"Integrates the canopy depth over the visible celestial reason\"\"\"\n",
    "        return (np.exp(-extinction_coef*can_depth2(elevation, azimuth)) *\n",
    "                np.sin(2*elevation))\n",
    "\n",
    "    \"\"\"Calculate the integral for both half of the trench\"\"\"\n",
    "    integral_1, error = dblquad(integrand, ori, ori+np.pi, lambda azimuth:\n",
    "                                epsilon_1, lambda azimuth: np.pi/2)\n",
    "    integral_2, error = dblquad(integrand, ori+np.pi, ori + 2*np.pi, lambda\n",
    "                                azimuth: epsilon_2, lambda azimuth: np.pi/2)\n",
    "\n",
    "    \"\"\"Fraction of diffuse radiation above the trench passing through the\n",
    "    canopy\"\"\"\n",
    "    fraction = (1/(math.pi*(math.cos(epsilon_1)-math.cos(epsilon_2))) *\n",
    "                (integral_1+integral_2))\n",
    "\n",
    "    \"\"\"Fraction of global diffuse radiation at bottom of trench\"\"\"\n",
    "    diffuse_trench = (0.5*diffuse_input*(math.cos(epsilon_1) -\n",
    "                                         math.cos(epsilon_2)))\n",
    "\n",
    "    \"\"\"Diffuse radiation at bottom of trench\"\"\"\n",
    "    diffuse_short = fraction*diffuse_trench\n",
    "    return diffuse_short"
   ]
  },
  {
   "cell_type": "markdown",
   "metadata": {
    "nbpresent": {
     "id": "8d6f68a8-e726-4b8e-ab7f-0c680dfb7653"
    },
    "slideshow": {
     "slide_type": "slide"
    }
   },
   "source": [
    "<center><h2>Reflected direct shortwave radiation</h2></center>"
   ]
  },
  {
   "cell_type": "markdown",
   "metadata": {
    "nbpresent": {
     "id": "b0257944-6fab-4637-a9d8-41e03f0eadcb"
    },
    "slideshow": {
     "slide_type": "fragment"
    }
   },
   "source": [
    "<ol><li>Calculate the fraction of the wall that is illuminated.\n",
    "<ul><li>Reflected radiation can only come from the illuminated portion of the wall.</li></ul><br />\n",
    "<li>Calculate the intensity of the direct radiation reaching points on the trench wall.\n",
    "<ul><li>Consider the possibility that some direct radiatio reaching the trench wall passes through the canopy and is therefore attenuated.</li></ul></li><br />\n",
    "<li>Calculate the portion of the reflected radiation directed towards a given point on the the trench floor.\n",
    "<ul><li>Compute meridional angles in a manner similar to the method used for diffuse radiation.</li></ul></li></ol>"
   ]
  },
  {
   "cell_type": "markdown",
   "metadata": {
    "nbpresent": {
     "id": "012bc91e-ee50-4bad-a595-e4f3be85bad2"
    },
    "slideshow": {
     "slide_type": "slide"
    }
   },
   "source": [
    "<center><h2>The maths: reflected direct radiation</h2></center>"
   ]
  },
  {
   "cell_type": "markdown",
   "metadata": {
    "nbpresent": {
     "id": "3b01b5b0-b687-4ac2-9cb7-b1e0ec65a4c5"
    },
    "slideshow": {
     "slide_type": "fragment"
    }
   },
   "source": [
    "The reflected direct radiation is determined by the intensity of the\n",
    "direct radiation reaching the trench's walls ($WDIR$), the fraction\n",
    "of the wall that is illuminated and seen from point $m$ ($h_{ref}$),\n",
    "the wall's albedo $\\rho$, and the fraction of the reflected light\n",
    "directed towards point $m$ on the trench floor ($FracRefDir$). The\n",
    "relationship is defined such that the direct radiation reflected from\n",
    "the trench wall and reaching a point $m$ on the trench floor $REF_{DIR}$\n",
    "is, $REF_{DIR}=\\rho WDIR*FracRefDir$.\n",
    "\n",
    "Lambert's Cosine Law is used to find the intensity of the solar radiation\n",
    "measured on the trench wall $(WDIR)$. The law states that the radiant\n",
    "intensity or luminous intensity observed from an ideal diffusely reflecting\n",
    "surface or ideal diffuse radiator is directly proportional to the\n",
    "cosine of the angle between the direction of the incident light and\n",
    "the surface normal. For the trench system, this gives $WDIR=Beam\\sin(\\frac{\\pi}{2}-\\varphi)=Beam\\cos\\varphi$,\n",
    "where $DIR$ is the measured radiation on the ground outside of the\n",
    "trench ($Beam=\\frac{DIR}{\\sin\\varphi}$). The relationship\n",
    "is defined this way because it uses the sun's elevation angle rather\n",
    "than the angle between the incoming radiation and the surface normal.\n",
    "\n",
    "The depth to which the wall is illuminated ($h_{ref}$) depends on\n",
    "the sun's position relative to the trench and the trench's aspect\n",
    "ratio. It is given by $h_{ref}=width\\tan\\varphi'$ (note: $\\tan\\varphi'=\\frac{h_{ref}}{width}$).\n",
    "\n",
    "The fraction of the illuminated wall ($FracRefDir$) as seen from\n",
    "point $m$ is dependent on the meridional view angles, as was the\n",
    "case when looking at the diffuse radiation reaching the trench floor. \n",
    "When $ ORI < \\phi < ORI+ \\pi $, $ \\varepsilon_{3}=\\arctan(\\frac{depth}{width-m}$)\n",
    "and $\\varepsilon_{4}=\\arctan(\\frac{depth-h_{ref}}{width-m}$).\n",
    "When $ ORI + \\pi < \\phi < ORI+ 2 \\pi$, $\\varepsilon_{3}=\\arctan(\\frac{depth}{m})$\n",
    "and $\\varepsilon_{4}=\\arctan(\\frac{depth-h_{ref}}{m}$). "
   ]
  },
  {
   "cell_type": "markdown",
   "metadata": {
    "nbpresent": {
     "id": "80935d0f-007e-4b37-a812-ed54f439f767"
    },
    "slideshow": {
     "slide_type": "slide"
    }
   },
   "source": [
    "<center><h2>The code: reflected direct shortwave radiation</h2></center>"
   ]
  },
  {
   "cell_type": "code",
   "execution_count": null,
   "metadata": {
    "collapsed": true,
    "nbpresent": {
     "id": "2bd27151-7e43-4d35-9833-82ab3d9af915"
    },
    "scrolled": true,
    "slideshow": {
     "slide_type": "fragment"
    }
   },
   "outputs": [],
   "source": [
    "def ref_direct(direct_beam, albedo, epsilon_3, epsilon_4, elevation_varPhi,\n",
    "               azimuth_phi, height_reflection, tree_x, m_y, canopy_radius,\n",
    "               canopy_height, tree_y, extinction_coef, ori):\n",
    "    if height_reflection == 0:\n",
    "        reflected_dir = 0\n",
    "    else:\n",
    "        beam = direct_beam/math.sin(elevation_varPhi)\n",
    "        wall_direct = beam*math.cos(elevation_varPhi)\n",
    "        fraction_direct_reflected = 0.5*(math.cos(epsilon_4) -\n",
    "                                         math.cos(epsilon_3))\n",
    "        p_x_wall = width - tree_x\n",
    "        p_y_wall = m_y - tree_y\n",
    "        wall_to_canopy_height = canopy_height - depth\n",
    "        can_depth_top = can_depth(p_x_wall, p_y_wall, canopy_radius,\n",
    "                                  wall_to_canopy_height, elevation_varPhi,\n",
    "                                  tree_x, azimuth_phi, tree_y)[0]\n",
    "\n",
    "        \"\"\"If canopy depth at top of the trench is zero, assume no canopy\n",
    "        depth for points below. If there is a canopy depth at the top of the\n",
    "        trench, test several points under this and compute an average canopy\n",
    "        depth\"\"\"\n",
    "        if can_depth_top == 0:\n",
    "            reflected_dir = albedo*wall_direct*fraction_direct_reflected\n",
    "        else:\n",
    "            test_points = np.arange(depth-height_reflection, depth,\n",
    "                                    height_reflection/wall_steps)\n",
    "            test_depth = np.empty(wall_steps)\n",
    "            for jj in range(wall_steps):\n",
    "                wall_point_jj = test_points[jj]\n",
    "                wall_to_canopy_height = canopy_height - wall_point_jj\n",
    "                can_depth_jj = can_depth(p_x_wall, p_y_wall, canopy_radius,\n",
    "                                         wall_to_canopy_height,\n",
    "                                         elevation_varPhi, tree_x, azimuth_phi,\n",
    "                                         tree_y)[0]\n",
    "                test_depth[jj] = can_depth_jj\n",
    "                average_depth = np.mean(test_depth)\n",
    "                wall_direct = wall_direct*math.exp(-extinction_coef *\n",
    "                                                   average_depth)\n",
    "                reflected_dir = albedo*wall_direct*fraction_direct_reflected\n",
    "    return reflected_dir\n"
   ]
  },
  {
   "cell_type": "markdown",
   "metadata": {
    "nbpresent": {
     "id": "d67c4731-5bfd-4910-92e8-3b3a77f7f558"
    },
    "slideshow": {
     "slide_type": "slide"
    }
   },
   "source": [
    "<center><h2>Reflected diffuse shortwave radiation</h2></center>"
   ]
  },
  {
   "cell_type": "markdown",
   "metadata": {
    "nbpresent": {
     "id": "42aebae4-ea46-4761-a3a2-5c4bce12d0e9"
    },
    "slideshow": {
     "slide_type": "fragment"
    }
   },
   "source": [
    "<ol><li>Calculate the intensity of the diffuse radiation reaching the trench's walls.\n",
    "<ul><li>Compute at several points and then take average.</li>\n",
    "<li>Include possibility that points on the trench wall are shaded by the canopy.</li></ul><br />\n",
    "<li>Calculate the portion of the reflected radiation directed towards a given point on the the trench floor.\n",
    "<ul><li>Compute meridional angles in a manner similar to the method used for diffuse radiation.</li></ul></li></ol>"
   ]
  },
  {
   "cell_type": "markdown",
   "metadata": {
    "nbpresent": {
     "id": "d63fd144-5418-4cbe-a306-7178f8c1e30c"
    },
    "slideshow": {
     "slide_type": "slide"
    }
   },
   "source": [
    "<center><h2>The maths: reflected diffuse radiation</h2></center>"
   ]
  },
  {
   "cell_type": "markdown",
   "metadata": {
    "nbpresent": {
     "id": "6e58479e-3038-47eb-a067-a6db588e820e"
    },
    "slideshow": {
     "slide_type": "fragment"
    }
   },
   "source": [
    "The reflected diffuse radiation is determined by the wall's albedo\n",
    "($\\rho$), the intensity of the diffuse radiation reaching the trench\n",
    "wall ($WDIF$), and the portion of the diffuse radiation directed\n",
    "towards the trench floor ($FracRefDiff$). The total amount of diffuse\n",
    "radiation reflected from the walls and reaching point $m$ is denoted\n",
    "as$REF_{DIF}$ is defined such that $REF_{DIF}=\\rho WDIF*FracRefDiff$.\n",
    "\n",
    "$WDIF$ is calculated by dividing the wall into several thin intervals\n",
    "and computing the diffuse radiation at each of these. The diffuse\n",
    "radiation reaching a given point ($x_{i}$) on the trench wall is\n",
    "limited by the fraction of the sky seen from the point. This fraction\n",
    "can be computed similarly to the diffuse radiation reaching a given\n",
    "point on the trench floor. But, in this case, $\\varepsilon_{1}$is\n",
    "always equal to zero. The fraction of diffuse radiation reaching any\n",
    "given point $x_{i}$ is therefore given by $FracDiffWall_{i}=1-\\frac{\\cos\\gamma_{i}}{2}$\n",
    "and $WDIF_{i}=\\Omega_{T}FracDiffWall_{i}$.\n",
    "\n",
    "The diffuse radiation from each of the two walls is computed by summing\n",
    "$WDIF_{i}$for each interval with $WDIF=\\sum_{i=1}^{n}WDIF_{i}$ where\n",
    "n is the number of intervals.\n",
    "\n",
    "The fraction of $WDIF$ reaching point $m$ on the bottom of the\n",
    "trench is: $FracRefDif=\\frac{1-\\cos\\varepsilon_{5}}{2}+\\frac{1-cos\\varepsilon_{6}}{2}=1-\\frac{(\\cos\\varepsilon_{5}+\\cos\\varepsilon_{6})}{2}$\n",
    "where $\\varepsilon_{5}=\\arctan\\frac{depth}{width-m}$ and $\\varepsilon_{6}=\\arctan\\frac{depth}{d}$.\n",
    "\n",
    "The presence of a canopy results in the attenuation of some of the\n",
    "diffuse radiation reaching the trench's wall. As with the diffuse\n",
    "radiation reaching the trench floor, this can be accounted for by\n",
    "applying Beer's Law ($I=I_{0}e^{-kx}$), such that $WDIF_{i}=\\Omega_{T}FracDiffWall_{i}\\frac{1}{\\pi FracDiffWall_{i}}\\int_{ORI+\\pi}^{ORI+2\\pi}\\int_{\\pi/2-\\gamma_{i}}^{\\pi/2}\\mathrm{e^{-kx(\\varphi,\\phi)}}d\\varphi\\mathrm{d}\\phi$\n",
    "for points on the fist wall and $WDIF_{i}=\\Omega_{T}FracDiffWall_{i}\\frac{1}{\\pi FracDiffWall_{i}}\\int_{ORI}^{ORI+\\pi}\\int_{\\pi/2-\\gamma_{i}}^{\\pi/2}\\mathrm{e^{-kx(\\varphi,\\phi)}}d\\varphi\\mathrm{d}\\phi$\n",
    "for points on the second wall."
   ]
  },
  {
   "cell_type": "markdown",
   "metadata": {
    "nbpresent": {
     "id": "87fe8b50-f699-40b9-92c0-20b31b13b2fc"
    },
    "slideshow": {
     "slide_type": "slide"
    }
   },
   "source": [
    "<center><h2>The code: reflected diffuse shortwave radiation</h2></center>"
   ]
  },
  {
   "cell_type": "code",
   "execution_count": null,
   "metadata": {
    "collapsed": true,
    "nbpresent": {
     "id": "1229922b-359c-4552-a85d-bda7618130a4"
    },
    "scrolled": true,
    "slideshow": {
     "slide_type": "fragment"
    }
   },
   "outputs": [],
   "source": [
    "def ref_diffuse_total(wall_points, depth, canopy_radius, canopy_height,\n",
    "                      extinction_coef, p_x_wall, p_y_wall, tree_y):\n",
    "    \"\"\"Calculates the canopy depth at point (p_x_wall, p_y_wall) for \n",
    "    a given azimuth and elevation angle\"\"\"\n",
    "    def can_depth2(elevation, azimuth):\n",
    "        var_theta = math.acos(math.sin(elevation)*math.sin(omega) +\n",
    "                              math.cos(elevation)*math.cos(omega) *\n",
    "                              math.cos(azimuth - beta_t - ori))\n",
    "        sin2_theta = 1 - math.pow(math.cos(var_theta), 2)\n",
    "\n",
    "        \"\"\"Check to see if shading is possible; calculate depth if possible\"\"\"\n",
    "        if math.degrees(var_theta) >= math.degrees(delta):\n",
    "            x = 0\n",
    "        else:\n",
    "            x = 2*math.sqrt(math.pow(canopy_radius, 2) -\n",
    "                            (math.pow(can_height_adj, 2) +\n",
    "                            math.pow(p_y_wall, 2) + math.pow(p_x_wall, 2)) *\n",
    "                            sin2_theta)\n",
    "        return x\n",
    "\n",
    "    \"\"\"Integrates the canopy depth over the visible celestial reason\"\"\"\n",
    "    def integrand(elevation, azimuth):\n",
    "        return (np.exp(-extinction_coef*can_depth2(elevation, azimuth)) *\n",
    "                np.sin(2*elevation))\n",
    "\n",
    "    \"\"\"Calculate diffuse radiation at each of several points on wall height\"\"\"\n",
    "    wall_diffuse = np.empty(len(wall_points))\n",
    "\n",
    "    \"\"\"Run loop over each point in wall depth\"\"\"\n",
    "    for ii in range(len(wall_points)):\n",
    "        #  Wall point; 0 = base\n",
    "        y_wall_ii = wall_points[ii]\n",
    "        #  gamma_ii: angle used to determine fraction of diffuse radiation\n",
    "        #  at point y_wall_ii\n",
    "        gamma_ii = math.atan(width/(depth - y_wall_ii))\n",
    "        #  Calculate fraction of total diffuse radiation reaching point y_ii\n",
    "        #  if there were no canopy\n",
    "        fraction_Diffuse_Wall = (1 - math.cos(gamma_ii))/2\n",
    "        #  adjust canopy height based point height\n",
    "\n",
    "        \"\"\"Find canopy depth for each height/width combination on the wall.\n",
    "        Adjust input values so that coordinate system is propertly defined and\n",
    "        then integrate over half of the hemisphere (other half is blocked by\n",
    "        trench wall\"\"\"\n",
    "        can_height_adj = canopy_height - y_wall_ii\n",
    "        dist_to_tree = math.sqrt(math.pow(p_x_wall, 2) + math.pow(p_y_wall, 2))\n",
    "        beta_t = math.atan(p_x_wall/p_y_wall)\n",
    "        omega = math.atan(can_height_adj/dist_to_tree)\n",
    "        delta = math.atan(canopy_radius/math.sqrt(math.pow(can_height_adj, 2) +\n",
    "                                                  (math.pow(p_x_wall, 2) +\n",
    "                                                   math.pow(p_y_wall, 2)) -\n",
    "                                                  math.pow(canopy_radius, 2)))\n",
    "        integral, err = dblquad(integrand, ori, ori+np.pi, lambda azimuth:\n",
    "                                np.pi/2 - gamma_ii, lambda azimuth: np.pi/2)\n",
    "\n",
    "        \"\"\"Calculate fraction of diffuse radiation reaching point y_wall_ii\"\"\"\n",
    "        wall_ii_fraction = (fraction_Diffuse_Wall*integral *\n",
    "                            (1/(math.pi*fraction_Diffuse_Wall)))\n",
    "        wall_diffuse[ii] = wall_ii_fraction\n",
    "\n",
    "    \"\"\"Calculate average diffuse radiation reaching points on wall with length\n",
    "    coordinate m_y\"\"\"\n",
    "    diffuse_fraction = 2*np.mean(wall_diffuse)\n",
    "    return diffuse_fraction"
   ]
  },
  {
   "cell_type": "markdown",
   "metadata": {
    "nbpresent": {
     "id": "5ec42641-308c-47a4-b231-a132f2d08ba8"
    },
    "slideshow": {
     "slide_type": "slide"
    }
   },
   "source": [
    "<center><h2>Incoming longwave radiation</h2></center>"
   ]
  },
  {
   "cell_type": "markdown",
   "metadata": {
    "nbpresent": {
     "id": "0e1c434b-d0fc-4973-bea3-d813f320c8d6"
    },
    "slideshow": {
     "slide_type": "fragment"
    }
   },
   "source": [
    "<ol><li>Integrate over the entire celestial hemisphere to find fraction of total hemisphere that is occluded by the canopy.\n",
    "<ul><li>Use this fraction in order to properly partition longwave radition emitted by the canopy and longwave radiation emitted by the air.</li></ul><br />\n",
    "<li>Use air temperature and relative humidity readings to calculate the emissivity of the air.</li>\n",
    "<li>Apply Stefan-Boltzmann law to find the longwave radiation emitted by the canopy and the longwave radiation emitted by the air.</li></ol>"
   ]
  },
  {
   "cell_type": "markdown",
   "metadata": {
    "nbpresent": {
     "id": "a876d414-293c-4276-8643-5b2c3c0ae94c"
    },
    "slideshow": {
     "slide_type": "slide"
    }
   },
   "source": [
    "<center><h2>The maths: incoming longwave radiation</h2></center>"
   ]
  },
  {
   "cell_type": "markdown",
   "metadata": {
    "nbpresent": {
     "id": "deeb6f16-2f45-48bd-a553-bd101c942497"
    },
    "slideshow": {
     "slide_type": "fragment"
    }
   },
   "source": [
    "The model considers two sources of longwave radiation: longwave radiation\n",
    "emitted by the air molecules and longwave radiation from the canopy.\n",
    "\n",
    "According to the Stefan-Boltzmann law, the radiation emitted\n",
    "from any body ($j$) is given by $j=\\varepsilon_{s}\\sigma T_{s}^{4}$\n",
    "where $\\varepsilon_{s}$ is the emissivity of the surface, $\\sigma$\n",
    "is the Stefan-Boltzmann constant, and $T_{s}$ is the temperature\n",
    "of the emitting body. The model applies this law to each of the surfaces\n",
    "in question.\n",
    "\n",
    "The emissivity of air molecules ($\\varepsilon_{a}$) is a function\n",
    "of their temperature and vapor pressure, such that $\\varepsilon_{a}=1.24(\\frac{e_{a}}{T_{a}})^{\\frac{1}{7}}$,\n",
    "where $T_{a}$ is the temperature of the air and $e_{a}$ is the water\n",
    "vapor pressure of the air. The vapor pressure is itself a function\n",
    "of the relative humidity and the saturation vapor pressure: $e_{a}=RH\\cdot e_{sat}$\n",
    "and $e_{sat}=6.11\\mathrm{e}^{\\frac{17.4T}{239+T}}$. In order to compute\n",
    "$e_{a}$ it is therefore necessary to have measurements of the air\n",
    "temperature and the relative humidity.\n",
    "\n",
    "The emissivity of the canopy ($\\varepsilon_{c}$) is dependent on\n",
    "the type of tree planted, but can be assumed to be constant for a\n",
    "given plant , and is provided as an input value. As the longwave radiation\n",
    "directed towards the trench floor will come from the bottom-facing\n",
    "side of the canopy, the model assumes that the temperature of the\n",
    "emitting leaves is equal to the air temperature.\n",
    "\n",
    "The probability ($p$) that a given point is obscured by the canopy\n",
    "can be modeled by $p=\\frac{1}{2\\pi}\\int_{0}^{\\pi/2}\\int_{0}^{2\\pi}\\sin2\\varphi c(\\varphi,\\phi)\\mathrm{d}\\phi\\mathrm{d}\\varphi$ where\n",
    "$c(\\varphi,\\phi)$ is 0 if the sky is obscured by the canopy and 1\n",
    "if it is not. \n",
    "\n",
    "The model then calculates the total longwave radiation as $p\\cdot\\varepsilon_{c}\\sigma T_{a}^{4}+(1-p)\\cdot\\varepsilon_{a}\\sigma T^{4}$."
   ]
  },
  {
   "cell_type": "markdown",
   "metadata": {
    "nbpresent": {
     "id": "ed85ad12-cc19-46ba-9741-82f34f100be9"
    },
    "slideshow": {
     "slide_type": "slide"
    }
   },
   "source": [
    "<center><h2>The code: incoming longwave radiation</h2></center>"
   ]
  },
  {
   "cell_type": "code",
   "execution_count": null,
   "metadata": {
    "collapsed": true,
    "nbpresent": {
     "id": "0cb59e0c-4e0d-4cf7-b30e-d2e0b74dfddb"
    },
    "scrolled": true,
    "slideshow": {
     "slide_type": "fragment"
    }
   },
   "outputs": [],
   "source": [
    "def incoming_longwave(p_x, p_y, omega, beta_t, ori, delta, canopy_radius,\n",
    "                      canopy_height, air_temp, rel_humidity, can_emissivity):\n",
    "    def can_probability(elevation, azimuth):\n",
    "        c_elevation_azimuth = 0\n",
    "        var_theta = math.acos(math.sin(elevation)*math.sin(omega) +\n",
    "                              math.cos(elevation)*math.cos(omega) *\n",
    "                              math.cos(azimuth - beta_t - ori))\n",
    "        sin2_theta = 1 - math.pow(math.cos(var_theta), 2)\n",
    "        if math.degrees(var_theta) >= math.degrees(delta):\n",
    "            x = 0\n",
    "        else:\n",
    "            x = 2*math.sqrt(math.pow(canopy_radius, 2) -\n",
    "                            (math.pow(canopy_height, 2) + math.pow(p_y, 2) +\n",
    "                             math.pow(p_x, 2))*sin2_theta)\n",
    "        if x != 0:\n",
    "            c_elevation_azimuth = 1\n",
    "        return c_elevation_azimuth\n",
    "\n",
    "    \"\"\"Integration function\"\"\"\n",
    "    def integrand(elevation, azimuth):\n",
    "        \"\"\"Integrates the canopy depth over the visible celestial reason\"\"\"\n",
    "        return can_probability(elevation, azimuth)*np.sin(2*elevation)\n",
    "\n",
    "    \"\"\"Calculate the integral for both half of the trench\"\"\"\n",
    "    integral, error = dblquad(integrand, 0, 2*np.pi, lambda azimuth: 0,\n",
    "                              lambda azimuth: np.pi/2)\n",
    "\n",
    "    \"\"\"Fraction of diffuse radiation above the trench passing through the\n",
    "    canopy\"\"\"\n",
    "    probability = integral/(2*math.pi)\n",
    "    \n",
    "    \"\"\"Calculate the emisivity of the air\"\"\"\n",
    "    e_sat = 6.11*math.exp(17.4*air_temp/(239 + air_temp))\n",
    "    e_a = rel_humidity*e_sat\n",
    "    air_emissivity = 1.24*math.pow(e_a/air_temp, 1/7)\n",
    "    \n",
    "    \"\"\"Calculate the incoming longwave radiation using Stefan-Boltzmann\"\"\"\n",
    "    sigma = 5.67e-08\n",
    "    incoming_longwave = ((1 - probability)*air_emissivity*sigma *\n",
    "                         math.pow(air_temp, 4) + probability*can_emissivity *\n",
    "                         sigma * math.pow(air_temp, 4))\n",
    "    return incoming_longwave"
   ]
  },
  {
   "cell_type": "markdown",
   "metadata": {
    "slideshow": {
     "slide_type": "slide"
    }
   },
   "source": [
    "<center><h2>The code: incoming radiation</h2></center>"
   ]
  },
  {
   "cell_type": "code",
   "execution_count": null,
   "metadata": {
    "collapsed": true,
    "nbpresent": {
     "id": "f8d41144-6873-4310-b71d-1f117aca98aa"
    },
    "scrolled": true,
    "slideshow": {
     "slide_type": "fragment"
    }
   },
   "outputs": [],
   "source": [
    "def incoming_radiation():\n",
    "    \"\"\"Collects input values\"\"\"\n",
    "    input_gui()\n",
    "\n",
    "    \"\"\"Initiates dataframe based on entries in input file\"\"\"\n",
    "    radiation_input, entries = initiate_dataframes(path, file_name)\n",
    "\n",
    "    \"\"\"Calculates which points on the trench floor to look at based on number\n",
    "    of steps requested in input\"\"\"\n",
    "    (width_steps, length_steps,\n",
    "     radiation_input, wall_points) = point_calculator(steps_x, steps_y, width,\n",
    "                                                      radiation_input,\n",
    "                                                      wall_steps, depth)\n",
    "\n",
    "    \"\"\"Calculate azimuth and elevation for each entry. Copy data to output\"\"\"\n",
    "    for i in range(entries):\n",
    "        DOY = radiation_input.ix[i, 'DOY']\n",
    "        time = radiation_input.ix[i, 'Hour']\n",
    "        elevation_varPhi, azimuth_phi = azimuth_elevation(DOY, time,\n",
    "                                                          XLON, XLAT, LTZM)\n",
    "        radiation_input.ix[i, 'Azimuth'] = azimuth_phi\n",
    "        radiation_input.ix[i, 'Elevation'] = elevation_varPhi\n",
    "    shortwave_direct = radiation_input.copy(deep=True)\n",
    "    shortwave_diffuse = radiation_input.copy(deep=True)\n",
    "    sw_reflected_direct = radiation_input.copy(deep=True)\n",
    "    sw_reflected_diffuse = radiation_input.copy(deep=True)\n",
    "    lw_incoming = radiation_input.copy(deep=True)\n",
    "\n",
    "    \"\"\"Calculate diffuse radiation reaching the walls for each lengthwise point\n",
    "    (m_y)\"\"\"\n",
    "    reflected_diffuse_wall = np.empty(len(length_steps))\n",
    "    for h in range(len(length_steps)):\n",
    "        p_x_wall = 0 - tree_x\n",
    "        p_y_wall = length_steps[h] - tree_y\n",
    "        diffuse_fraction = ref_diffuse_total(wall_points, depth, canopy_radius,\n",
    "                                             canopy_height, extinction_coef,\n",
    "                                             p_x_wall, p_y_wall, tree_y)\n",
    "        reflected_diffuse_wall[h] = diffuse_fraction\n",
    "\n",
    "    \"\"\"Calculate direct, diffuse, reflected, and longwave radiation at\n",
    "    each m_x, m_y, pair\"\"\"\n",
    "    for m in range(entries):\n",
    "        elevation_varPhi = radiation_input.ix[m, 'Elevation']\n",
    "        azimuth_phi = radiation_input.ix[m, 'Azimuth']\n",
    "        direct_beam = radiation_input.ix[m, 'Direct']\n",
    "        diffuse_input = radiation_input.ix[m, 'Diffuse']\n",
    "        for j in range(len(width_steps)):\n",
    "            m_x = width_steps[j]\n",
    "            p_x = m_x - tree_x\n",
    "            if elevation_varPhi == 0:           # No incoming shortwave\n",
    "                shortwave_direct.iloc[m, :] = 0\n",
    "                shortwave_diffuse.iloc[m, :] = 0\n",
    "                sw_reflected_direct.iloc[m, :] = 0\n",
    "                sw_reflected_diffuse.iloc[m, :] = 0\n",
    "                for k in range(len(length_steps)):\n",
    "                    m_y = length_steps[k]\n",
    "                    p_y = m_y - tree_y\n",
    "                    dist_to_tree = (math.sqrt(math.pow(p_y, 2) +\n",
    "                                    math.pow(p_x, 2)))\n",
    "                    omega = math.atan(canopy_height/dist_to_tree)\n",
    "                    beta_t = math.atan(p_x/p_y)\n",
    "                    delta = (math.atan(canopy_radius /\n",
    "                                       math.sqrt(math.pow(canopy_height, 2) +\n",
    "                                                 math.pow(dist_to_tree, 2) -\n",
    "                                                 math.pow(canopy_radius, 2))))\n",
    "                    column_header = (str(width_steps[j]) + 'x_' +\n",
    "                                     str(length_steps[k]) + 'y')\n",
    "                    longwave = incoming_longwave(p_x, p_y, omega, beta_t, ori,\n",
    "                                                 delta, canopy_radius,\n",
    "                                                 canopy_height, air_temp,\n",
    "                                                 rel_humidity, can_emissivity)\n",
    "                    lw_incoming.ix[m, column_header] = longwave\n",
    "            else:                               # Otherwise calculate\n",
    "                (epsilon_1, epsilon_2,\n",
    "                 epsilon_3, epsilon_4,\n",
    "                 frac_diffuse_x_y,\n",
    "                 height_reflection) = meridional_angles(m_x, depth, width,\n",
    "                                                        azimuth_phi, normal,\n",
    "                                                        elevation_varPhi)\n",
    "                for k in range(len(length_steps)):\n",
    "                    m_y = length_steps[k]\n",
    "                    p_y = m_y - tree_y\n",
    "                    column_header = (str(width_steps[j]) + 'x_' +\n",
    "                                     str(length_steps[k]) + 'y')\n",
    "\n",
    "                    \"\"\"Direct\"\"\"\n",
    "                    (canopy_depth, beta_t, omega,\n",
    "                     delta) = can_depth(p_x, p_y, canopy_radius, canopy_height,\n",
    "                                        elevation_varPhi, tree_x, azimuth_phi,\n",
    "                                        tree_y)\n",
    "                    direct_short = direct_sw(m_x, m_y, direct_beam,\n",
    "                                             extinction_coef, canopy_depth,\n",
    "                                             azimuth_phi, normal,\n",
    "                                             elevation_varPhi, ori)\n",
    "                    shortwave_direct.ix[m, column_header] = direct_short\n",
    "\n",
    "                    \"\"\"Diffuse\"\"\"\n",
    "                    diffuse_short = diffuse_sw(epsilon_1, epsilon_2,\n",
    "                                               diffuse_input, canopy_radius,\n",
    "                                               canopy_height, p_x, p_y, omega,\n",
    "                                               ori, extinction_coef, beta_t,\n",
    "                                               delta)\n",
    "                    shortwave_diffuse.ix[m, column_header] = diffuse_short\n",
    "\n",
    "                    \"\"\"Reflected Direct\"\"\"\n",
    "                    direct_reflect = ref_direct(direct_beam, albedo, epsilon_3,\n",
    "                                                epsilon_4, elevation_varPhi,\n",
    "                                                azimuth_phi, height_reflection,\n",
    "                                                tree_x, m_y, canopy_radius,\n",
    "                                                canopy_height, tree_y,\n",
    "                                                extinction_coef, ori)\n",
    "                    sw_reflected_direct.ix[m, column_header] = direct_reflect\n",
    "\n",
    "                    \"\"\"Reflected Diffuse\"\"\"\n",
    "                    diffuse_fraction_k = reflected_diffuse_wall[k]\n",
    "                    wall_diffuse_k = diffuse_input*diffuse_fraction_k\n",
    "                    diffuse_x_y = frac_diffuse_x_y*albedo*wall_diffuse_k\n",
    "                    sw_reflected_diffuse.ix[m, column_header] = diffuse_x_y\n",
    "                    \n",
    "                    \"\"\"Longwave\"\"\"\n",
    "                    longwave = incoming_longwave(p_x, p_y, omega, beta_t, ori,\n",
    "                                                 delta, canopy_radius,\n",
    "                                                 canopy_height, air_temp,\n",
    "                                                 rel_humidity, can_emissivity)\n",
    "                    lw_incoming.ix[m, column_header] = longwave\n",
    "\n",
    "    \"\"\"Write to CSV files\"\"\"\n",
    "    shortwave_direct.to_csv(\"1_Shortwave_Direct.csv\")\n",
    "    shortwave_diffuse.to_csv(\"2_Shortwave_Diffuse.csv\")\n",
    "    sw_reflected_direct.to_csv(\"3_Reflected_Direct.csv\")\n",
    "    sw_reflected_diffuse.to_csv(\"4_Reflected_Diffuse.csv\")\n",
    "    lw_incoming.to_csv(\"5_Longwave_Radiation.csv\")\n",
    "    return (radiation_input, shortwave_direct, shortwave_diffuse,\n",
    "            sw_reflected_direct, sw_reflected_diffuse)"
   ]
  }
 ],
 "metadata": {
  "anaconda-cloud": {},
  "celltoolbar": "Slideshow",
  "kernelspec": {
   "display_name": "Python [conda root]",
   "language": "python",
   "name": "conda-root-py"
  },
  "language_info": {
   "codemirror_mode": {
    "name": "ipython",
    "version": 3
   },
   "file_extension": ".py",
   "mimetype": "text/x-python",
   "name": "python",
   "nbconvert_exporter": "python",
   "pygments_lexer": "ipython3",
   "version": "3.5.2"
  },
  "nbpresent": {
   "slides": {
    "0ae9b243-61a5-473c-9295-8cba0fda0489": {
     "id": "0ae9b243-61a5-473c-9295-8cba0fda0489",
     "prev": "c29028c3-a1b5-435d-bb8a-2024b491866d",
     "regions": {
      "66a08df1-771a-4ec2-88c6-8085a82c930b": {
       "attrs": {
        "height": 0.8,
        "width": 0.8,
        "x": 0.1,
        "y": 0.1
       },
       "content": {
        "cell": "d6db64f9-2622-4e1a-9980-62394a07e436",
        "part": "whole"
       },
       "id": "66a08df1-771a-4ec2-88c6-8085a82c930b"
      },
      "f263587e-4d5b-4a8c-9966-fdf976a64aae": {
       "attrs": {
        "height": 1,
        "width": 1,
        "x": 0,
        "y": 0
       },
       "id": "f263587e-4d5b-4a8c-9966-fdf976a64aae"
      }
     }
    },
    "5d027a9a-5ce0-4c59-b5a7-69433481377c": {
     "id": "5d027a9a-5ce0-4c59-b5a7-69433481377c",
     "layout": "grid",
     "prev": "61366096-4ff8-4bc4-a4a6-e4c7098532a0",
     "regions": {
      "45359bdd-b5b0-424f-8cf2-f41d6661bccf": {
       "attrs": {
        "height": 1,
        "pad": 0.01,
        "width": 1,
        "x": 0,
        "y": 0
       },
       "id": "45359bdd-b5b0-424f-8cf2-f41d6661bccf"
      },
      "c1734747-239c-4a97-94a0-74363a1a696e": {
       "attrs": {
        "height": 0.5,
        "pad": 0.01,
        "width": 0.5833333333333334,
        "x": 0.16666666666666666,
        "y": 0.16666666666666666
       },
       "content": {
        "cell": "0ba5dafe-9922-4750-9157-7d19b4108806",
        "part": "whole"
       },
       "id": "c1734747-239c-4a97-94a0-74363a1a696e"
      }
     }
    },
    "61366096-4ff8-4bc4-a4a6-e4c7098532a0": {
     "id": "61366096-4ff8-4bc4-a4a6-e4c7098532a0",
     "prev": null,
     "regions": {
      "0101d334-95ed-4e29-8b32-3736e06c6cd7": {
       "attrs": {
        "height": 1,
        "width": 1,
        "x": 0,
        "y": 0
       },
       "id": "0101d334-95ed-4e29-8b32-3736e06c6cd7"
      },
      "ef0d96ba-01d9-4dc2-a5e8-6ef51bd29820": {
       "attrs": {
        "height": 0.8,
        "width": 0.8,
        "x": 0.1,
        "y": 0.1
       },
       "content": {
        "cell": "68db9ba2-c945-441c-a6e7-592c21e689c0",
        "part": "whole"
       },
       "id": "ef0d96ba-01d9-4dc2-a5e8-6ef51bd29820"
      }
     }
    },
    "c29028c3-a1b5-435d-bb8a-2024b491866d": {
     "id": "c29028c3-a1b5-435d-bb8a-2024b491866d",
     "prev": "5d027a9a-5ce0-4c59-b5a7-69433481377c",
     "regions": {
      "d8fb17c3-37fd-48f4-9ea2-15d5cb302e94": {
       "attrs": {
        "height": 0.425,
        "width": 0.8,
        "x": 0.1,
        "y": 0.37083333333333335
       },
       "content": {
        "cell": "446e6703-83cc-459f-9cc0-54363c8404fb",
        "part": "whole"
       },
       "id": "d8fb17c3-37fd-48f4-9ea2-15d5cb302e94"
      },
      "e608798e-cab8-4200-aeae-bacbb98010ee": {
       "attrs": {
        "height": 0.18055555555555555,
        "width": 0.8,
        "x": 0.1,
        "y": 0.1
       },
       "content": {
        "cell": "708ca057-5a83-44c1-bc31-8f73619ea71e",
        "part": "whole"
       },
       "id": "e608798e-cab8-4200-aeae-bacbb98010ee"
      },
      "f28ebef1-a5e3-43de-9cff-20bd374d33a0": {
       "attrs": {
        "height": 1,
        "width": 1,
        "x": 0,
        "y": 0
       },
       "id": "f28ebef1-a5e3-43de-9cff-20bd374d33a0"
      }
     },
     "theme": "c5e30062-5588-42e0-8d45-37976b337165"
    }
   },
   "themes": {
    "default": "10837167-8242-4f4e-b390-00a54a231fd4",
    "theme": {}
   }
  }
 },
 "nbformat": 4,
 "nbformat_minor": 1
}
